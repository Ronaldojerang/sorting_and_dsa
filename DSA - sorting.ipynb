{
 "cells": [
  {
   "cell_type": "markdown",
   "id": "7a4fa18b",
   "metadata": {},
   "source": [
    "\n",
    "# Ronaldo Jerang\n",
    "\n",
    "\n",
    "\n",
    "\n",
    "\n"
   ]
  },
  {
   "cell_type": "markdown",
   "id": "1543da56",
   "metadata": {},
   "source": [
    "# Bubble sorting\n"
   ]
  },
  {
   "cell_type": "code",
   "execution_count": 10,
   "id": "8ffa3137",
   "metadata": {},
   "outputs": [
    {
     "name": "stdout",
     "output_type": "stream",
     "text": [
      "Sorted array :\n",
      "4 4 5 8 16 64 33245 "
     ]
    }
   ],
   "source": [
    "\n",
    "\n",
    "def bubbleSort(arr):\n",
    "    n = len(arr)\n",
    "\n",
    "    for i in range(n):\n",
    "        swapped = False\n",
    "\n",
    "\n",
    "        for j in range(0, n-i-1):\n",
    "\n",
    "\n",
    "            if arr[j] > arr[j+1] :\n",
    "                arr[j], arr[j+1] = arr[j+1], arr[j]\n",
    "                swapped = True\n",
    "\n",
    "                \n",
    "        if swapped == False:\n",
    "            break\n",
    "\n",
    "# Driver code to test above\n",
    "arr = [16,4,64,8,5,4,33245]\n",
    "\n",
    "bubbleSort(arr)\n",
    "\n",
    "print (\"Sorted array :\")\n",
    "for i in range(len(arr)):\n",
    "    print (\"%d\" %arr[i],end=\" \")\n",
    "\n"
   ]
  },
  {
   "cell_type": "markdown",
   "id": "36222527",
   "metadata": {},
   "source": [
    "# quick sorting"
   ]
  },
  {
   "cell_type": "code",
   "execution_count": 16,
   "id": "512b0655",
   "metadata": {},
   "outputs": [
    {
     "name": "stdout",
     "output_type": "stream",
     "text": [
      "[3, 4, 6, 23, 34, 45, 234]\n"
     ]
    }
   ],
   "source": [
    "def partition(i , j , arrr):\n",
    "    pivotI = i\n",
    "    pivot = arrr[pivotI]\n",
    "    while i < j:\n",
    "        while i < len(arrr) and arrr[i] <= pivot:\n",
    "            i += 1\n",
    "        while arrr[j] > pivot:\n",
    "            j -= 1\n",
    "        if ( i < j):\n",
    "            arrr[i],arrr[j] = arrr[j],arrr[i]\n",
    "    arrr[j], arrr[pivotI] = arrr[pivotI],arrr[j]\n",
    "    return j\n",
    "def quick(i , j , arrr):\n",
    "    if (i < j):\n",
    "        p = partition(i,j,arrr)\n",
    "        quick(i , p-1,arrr)\n",
    "        quick(p+1,j,arrr)\n",
    "        \n",
    "arrr= [ 234,23,45,6,4,3,34 ]\n",
    "quick(0,len(arrr) - 1,arrr)\n",
    "print(arrr)"
   ]
  },
  {
   "cell_type": "markdown",
   "id": "f66cdf63",
   "metadata": {},
   "source": [
    "# merge sorting"
   ]
  },
  {
   "cell_type": "code",
   "execution_count": 50,
   "id": "4dfae824",
   "metadata": {},
   "outputs": [
    {
     "name": "stdout",
     "output_type": "stream",
     "text": [
      "33451233343343\n"
     ]
    }
   ],
   "source": [
    "def mergeSort(arr):\n",
    "    if len(arr) > 1:\n",
    "        mid = len(arr)//2\n",
    "        L = arr[:mid]\n",
    "        R = arr[mid:]\n",
    "        mergeSort(L)\n",
    "        mergeSort(R)\n",
    "        i = j = k =0\n",
    "        while i < len(L) and j < len(R):\n",
    "            if L[i] < R[j]:\n",
    "                arr[k] = L[i]\n",
    "                i +=1\n",
    "            else:\n",
    "                arr[k] = R[j]\n",
    "                j+=1\n",
    "            k +=1\n",
    "        while i < len(L):\n",
    "            arr[k] = L[i]\n",
    "            i+=1\n",
    "            k +=1\n",
    "        while j <len(R):\n",
    "            arr[k] = R[j]\n",
    "            j += 1\n",
    "            k += 1\n",
    "def printi(arr):\n",
    "    for i  in range(len(arr)):\n",
    "        print(arr[i],end =\"\")\n",
    "    print()\n",
    "    \n",
    "\n",
    "arr = [12,3,343,5,4,3,343,33]\n",
    "\n",
    "\n",
    "mergeSort(arr)\n",
    "printi(arr)\n"
   ]
  },
  {
   "cell_type": "markdown",
   "id": "906cbaa9",
   "metadata": {},
   "source": [
    "# selection sorting"
   ]
  },
  {
   "cell_type": "code",
   "execution_count": 45,
   "id": "066b58a6",
   "metadata": {},
   "outputs": [
    {
     "name": "stdout",
     "output_type": "stream",
     "text": [
      "3 3 12 334 3434 4344 "
     ]
    }
   ],
   "source": [
    "\n",
    "ar = [12,3,3434,3,4344,334]\n",
    "for i in range(len(ar)):\n",
    "    min = i\n",
    "    for j in range(i +1 , len(ar)):\n",
    "        if ar[min] > ar[j]:\n",
    "            min = j\n",
    "    ar[i],ar[min] = ar[min],ar[i]\n",
    "for i in range(len(ar)):\n",
    "    print(\"%d\" %ar[i],end=\" \")"
   ]
  },
  {
   "cell_type": "markdown",
   "id": "ba2548d1",
   "metadata": {},
   "source": [
    "# heap sorting"
   ]
  },
  {
   "cell_type": "code",
   "execution_count": 56,
   "id": "08e01afd",
   "metadata": {},
   "outputs": [
    {
     "name": "stdout",
     "output_type": "stream",
     "text": [
      "344 23 5 43 33 "
     ]
    }
   ],
   "source": [
    "def heafy(arr,n ,i):\n",
    "    largest = i\n",
    "    l = 2*i + 1\n",
    "    r = 2*i+ 2\n",
    "    if l < n and arr[largest]<arr[l]:\n",
    "        largest = l \n",
    "    if r < n and arr[largest]<arr[r]:\n",
    "        largest = r\n",
    "    if largest != i:\n",
    "        arr[i], arr[largest] = arr[largest],arr[i]\n",
    "        heafy(arr,n,largest)\n",
    "def hsort(arr):\n",
    "    n = len(arr)\n",
    "    for i in range(n // 2-1 ,-1,-1):\n",
    "        arr[i],arr[0] = arr[0],arr[i]\n",
    "        heafy(arr,i,0)\n",
    "arr=[23,344,5,43,33]\n",
    "hsort(arr)\n",
    "n = len(arr)\n",
    "for  i in range(n):\n",
    "    print(\"%d\" % arr[i],end=\" \")"
   ]
  },
  {
   "cell_type": "markdown",
   "id": "ce488f5c",
   "metadata": {},
   "source": [
    "# radix sorting"
   ]
  },
  {
   "cell_type": "code",
   "execution_count": 60,
   "id": "0e370759",
   "metadata": {},
   "outputs": [
    {
     "name": "stdout",
     "output_type": "stream",
     "text": [
      "[23, 32, 223, 323, 2323, 4332]\n"
     ]
    }
   ],
   "source": [
    "\n",
    "def countingSort(array, place):\n",
    "    size = len(array)\n",
    "    output = [0] * size\n",
    "    count = [0] * 10\n",
    "    for i in range(0, size):\n",
    "        index = array[i] // place\n",
    "        count[index % 10] += 1\n",
    "    for i in range(1, 10):\n",
    "        count[i] += count[i - 1]\n",
    "    i = size - 1\n",
    "    while i >= 0:\n",
    "        index = array[i] // place\n",
    "        output[count[index % 10] - 1] = array[i]\n",
    "        count[index % 10] -= 1\n",
    "        i -= 1\n",
    "    for i in range(0, size):\n",
    "        array[i] = output[i]\n",
    "def radixSort(array):\n",
    "    max_element = max(array)\n",
    "    place = 1\n",
    "    while max_element // place > 0:\n",
    "        countingSort(array, place)\n",
    "        place *= 10\n",
    "data = [223,4332,323,23,2323,32]\n",
    "radixSort(data)\n",
    "print(data)"
   ]
  },
  {
   "cell_type": "code",
   "execution_count": null,
   "id": "42cf8233",
   "metadata": {},
   "outputs": [],
   "source": []
  }
 ],
 "metadata": {
  "kernelspec": {
   "display_name": "Python 3 (ipykernel)",
   "language": "python",
   "name": "python3"
  },
  "language_info": {
   "codemirror_mode": {
    "name": "ipython",
    "version": 3
   },
   "file_extension": ".py",
   "mimetype": "text/x-python",
   "name": "python",
   "nbconvert_exporter": "python",
   "pygments_lexer": "ipython3",
   "version": "3.9.7"
  }
 },
 "nbformat": 4,
 "nbformat_minor": 5
}
