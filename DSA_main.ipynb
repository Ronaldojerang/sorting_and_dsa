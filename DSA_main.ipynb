{
 "cells": [
  {
   "cell_type": "markdown",
   "id": "173dc5f6",
   "metadata": {},
   "source": [
    "\n",
    "# linear searching"
   ]
  },
  {
   "cell_type": "code",
   "execution_count": 54,
   "id": "c4360dbf",
   "metadata": {},
   "outputs": [
    {
     "name": "stdout",
     "output_type": "stream",
     "text": [
      " it is in index 3\n"
     ]
    }
   ],
   "source": [
    "def sear(a,n,arr):\n",
    "    for i in range(n):\n",
    "        if (arr[i] == a):\n",
    "            return i\n",
    "    return -1\n",
    "arr = [12,3,4,5,53]\n",
    "n = len(arr)\n",
    "a = 5 # or x = int(input())\n",
    " \n",
    "ans = sear(a,n,arr)\n",
    "if (ans == -1):\n",
    "    print(\"no elemnt\")\n",
    "else:\n",
    "    print(f\" it is in index {ans}\")\n",
    "    \n",
    "\n"
   ]
  },
  {
   "cell_type": "markdown",
   "id": "d39382a0",
   "metadata": {},
   "source": [
    "# binary searching "
   ]
  },
  {
   "cell_type": "code",
   "execution_count": 86,
   "id": "25ffbf31",
   "metadata": {},
   "outputs": [
    {
     "name": "stdout",
     "output_type": "stream",
     "text": [
      "Element is present at index  2\n"
     ]
    }
   ],
   "source": [
    "\n",
    "def binary(arr, l, r, b):\n",
    "    if r >= l:\n",
    "        mid = l + (r - l) // 2\n",
    "        if arr[mid] == x:\n",
    "            return mid\n",
    "        elif arr[mid] > x:\n",
    "            return binary(arr, l, mid-1, b)\n",
    "        else:\n",
    "            return binary(arr, mid + 1, r, b)\n",
    "    else:\n",
    " \n",
    "        return -1\n",
    "\n",
    "arr = [2344,3,4,4]\n",
    "x = 4\n",
    "result = binary(arr, 0, len(arr)-1, b)\n",
    "\n",
    "if result != -1:\n",
    "     print(\"Element is present at index % d\" % result)\n",
    "else:\n",
    "    print(\"Element is not present in array\")\n",
    "    \n",
    "\n"
   ]
  },
  {
   "cell_type": "code",
   "execution_count": null,
   "id": "2d5b8a6b",
   "metadata": {},
   "outputs": [],
   "source": []
  }
 ],
 "metadata": {
  "kernelspec": {
   "display_name": "Python 3 (ipykernel)",
   "language": "python",
   "name": "python3"
  },
  "language_info": {
   "codemirror_mode": {
    "name": "ipython",
    "version": 3
   },
   "file_extension": ".py",
   "mimetype": "text/x-python",
   "name": "python",
   "nbconvert_exporter": "python",
   "pygments_lexer": "ipython3",
   "version": "3.9.7"
  }
 },
 "nbformat": 4,
 "nbformat_minor": 5
}
